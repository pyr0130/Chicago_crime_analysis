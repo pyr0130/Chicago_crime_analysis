{
 "cells": [
  {
   "cell_type": "markdown",
   "metadata": {},
   "source": [
    "# Python Module"
   ]
  },
  {
   "cell_type": "code",
   "execution_count": 1,
   "metadata": {},
   "outputs": [],
   "source": [
    "import pandas as pd\n",
    "import matplotlib.pyplot as plt"
   ]
  },
  {
   "cell_type": "code",
   "execution_count": 2,
   "metadata": {},
   "outputs": [],
   "source": [
    "import findspark\n",
    "findspark.init()"
   ]
  },
  {
   "cell_type": "code",
   "execution_count": 3,
   "metadata": {},
   "outputs": [],
   "source": [
    "from pyspark import SparkContext\n",
    "SparkContext.setSystemProperty('spark.executor.memory', '2g')\n",
    "sc = SparkContext(\"local\", \"App Name\")"
   ]
  },
  {
   "cell_type": "code",
   "execution_count": 4,
   "metadata": {},
   "outputs": [],
   "source": [
    "import pyspark\n",
    "from pyspark.sql import SparkSession"
   ]
  },
  {
   "cell_type": "code",
   "execution_count": 5,
   "metadata": {},
   "outputs": [],
   "source": [
    "from pyspark.sql import SQLContext, Row"
   ]
  },
  {
   "cell_type": "code",
   "execution_count": 6,
   "metadata": {},
   "outputs": [],
   "source": [
    "from pyspark.sql.functions import col"
   ]
  },
  {
   "cell_type": "markdown",
   "metadata": {},
   "source": [
    "# 파일 불러오기"
   ]
  },
  {
   "cell_type": "code",
   "execution_count": 7,
   "metadata": {},
   "outputs": [],
   "source": [
    "spark = SparkSession.builder.getOrCreate()"
   ]
  },
  {
   "cell_type": "code",
   "execution_count": 8,
   "metadata": {},
   "outputs": [],
   "source": [
    "data = spark.read.csv(\"./Crimes_Chicago.csv\", header=True)"
   ]
  },
  {
   "cell_type": "code",
   "execution_count": 9,
   "metadata": {},
   "outputs": [],
   "source": [
    "chicago = data.alias(\"chicago\")"
   ]
  },
  {
   "cell_type": "markdown",
   "metadata": {},
   "source": [
    "# 결측지 제거"
   ]
  },
  {
   "cell_type": "code",
   "execution_count": 10,
   "metadata": {},
   "outputs": [],
   "source": [
    "chicago = data.na.drop(subset =[\"Longitude\"])"
   ]
  },
  {
   "cell_type": "markdown",
   "metadata": {},
   "source": [
    "# 년도별 카운트"
   ]
  },
  {
   "cell_type": "code",
   "execution_count": 11,
   "metadata": {},
   "outputs": [],
   "source": [
    "chicago.createOrReplaceTempView(\"CHICAGO\")"
   ]
  },
  {
   "cell_type": "code",
   "execution_count": 12,
   "metadata": {},
   "outputs": [],
   "source": [
    "year_count = spark.sql(\"SELECT Year, count(Year) AS Count FROM CHICAGO GROUP BY Year ORDER BY Year\")"
   ]
  },
  {
   "cell_type": "markdown",
   "metadata": {},
   "source": [
    "# 월/일/시간 추가"
   ]
  },
  {
   "cell_type": "code",
   "execution_count": 13,
   "metadata": {},
   "outputs": [],
   "source": [
    "# 복사\n",
    "chicago_md = chicago"
   ]
  },
  {
   "cell_type": "code",
   "execution_count": 14,
   "metadata": {},
   "outputs": [],
   "source": [
    "chicago_md = chicago_md.withColumn('Month', chicago_md['Date'].substr(1,2))\n",
    "chicago_md = chicago_md.withColumn('Day', chicago_md['Date'].substr(4,2))"
   ]
  },
  {
   "cell_type": "code",
   "execution_count": 15,
   "metadata": {},
   "outputs": [],
   "source": [
    "chicago_md = chicago_md.withColumn('Time', chicago_md['Date'].substr(12,15))"
   ]
  },
  {
   "cell_type": "code",
   "execution_count": 16,
   "metadata": {},
   "outputs": [],
   "source": [
    "chicago_md.createOrReplaceTempView(\"CHICAGO_MD\")"
   ]
  },
  {
   "cell_type": "markdown",
   "metadata": {},
   "source": [
    "* Column 명칭 변경"
   ]
  },
  {
   "cell_type": "code",
   "execution_count": 17,
   "metadata": {},
   "outputs": [],
   "source": [
    "chicago_md_rename = chicago_md.select('ID',col(\"Case Number\").alias(\"Case_Number\"), 'Date','Block','IUCR',\n",
    "                                      col(\"Primary Type\").alias(\"Primary_Type\"),'Description',\n",
    "                                      col(\"Location Description\").alias(\"Location_Description\"), \n",
    "                                      'Arrest','Domestic','Beat','District','Ward',\n",
    "                                      col(\"Community Area\").alias(\"Community_Area\"),\n",
    "                                      col(\"FBI Code\").alias(\"FBI_Code\"),\n",
    "                                     col(\"X Coordinate\").alias(\"X_Coordinate\"),col(\"Y Coordinate\").alias(\"Y_Coordinate\"),\n",
    "                                      col(\"Updated On\").alias(\"Updated_On\"),'Latitude','Longitude','Location',\n",
    "                                     col(\"Historical Wards 2003-2015\").alias(\"Historical_Wards_20032015\"),\n",
    "                                     col(\"Zip Codes\").alias(\"Zip_Codes\"),col(\"Community Areas\").alias(\"Community_Areas\"),\n",
    "                                     col(\"Census Tracts\").alias(\"Census_Tracts\"), 'Wards',\n",
    "                                      col(\"Boundaries - ZIP Codes\").alias(\"Boundaries_ZIPCodes\"),\n",
    "                                     col(\"Police Districts\").alias(\"Police_Districts\"), col(\"Police Beats\").alias(\"Police_Beats\"),\n",
    "                                      'Year','Month', 'Day','Time')"
   ]
  },
  {
   "cell_type": "code",
   "execution_count": 18,
   "metadata": {},
   "outputs": [],
   "source": [
    "chicago_md_rename.createOrReplaceTempView(\"CHICAGO_MD_RE\")"
   ]
  },
  {
   "cell_type": "markdown",
   "metadata": {},
   "source": [
    "# 년도별 데이터"
   ]
  },
  {
   "cell_type": "code",
   "execution_count": 19,
   "metadata": {},
   "outputs": [],
   "source": [
    "year_lst = list(year_count.select('Year').toPandas()['Year'])"
   ]
  },
  {
   "cell_type": "code",
   "execution_count": 20,
   "metadata": {},
   "outputs": [],
   "source": [
    "yearlst = []\n",
    "for i in range(len(year_lst)):\n",
    "#     print(year_lst[i])\n",
    "    tmp = spark.sql(\"SELECT * FROM CHICAGO_MD_RE WHERE Year = {}\".format(year_lst[i]))\n",
    "    yearlst.append(tmp)"
   ]
  },
  {
   "cell_type": "markdown",
   "metadata": {},
   "source": [
    "* crime 데이터 합치기"
   ]
  },
  {
   "cell_type": "code",
   "execution_count": 21,
   "metadata": {},
   "outputs": [],
   "source": [
    "crime1617 = yearlst[15].union(yearlst[16])"
   ]
  }
 ],
 "metadata": {
  "kernelspec": {
   "display_name": "Python 3",
   "language": "python",
   "name": "python3"
  },
  "language_info": {
   "codemirror_mode": {
    "name": "ipython",
    "version": 3
   },
   "file_extension": ".py",
   "mimetype": "text/x-python",
   "name": "python",
   "nbconvert_exporter": "python",
   "pygments_lexer": "ipython3",
   "version": "3.6.4"
  }
 },
 "nbformat": 4,
 "nbformat_minor": 2
}
